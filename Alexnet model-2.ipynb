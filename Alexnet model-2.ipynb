{
 "cells": [
  {
   "cell_type": "code",
   "execution_count": 1,
   "metadata": {
    "collapsed": false
   },
   "outputs": [],
   "source": [
    "import pandas as pd\n",
    "import numpy as np\n",
    "import tensorflow as tf\n",
    "from tensorflow.contrib.learn.python.learn.datasets.mnist import read_data_sets\n",
    "#import datetime\n",
    "from sklearn.preprocessing import normalize\n",
    "from sklearn.model_selection import train_test_split\n",
    "from nets import nets_factory\n",
    "import matplotlib.pyplot as plt"
   ]
  },
  {
   "cell_type": "code",
   "execution_count": 2,
   "metadata": {
    "collapsed": true
   },
   "outputs": [],
   "source": [
    "def one_hot(label):\n",
    "    r = np.zeros(total_labels, dtype=int)\n",
    "    r[label] = 1\n",
    "    return r.tolist()"
   ]
  },
  {
   "cell_type": "code",
   "execution_count": 3,
   "metadata": {
    "collapsed": true
   },
   "outputs": [],
   "source": [
    "def batch_iter(data, batch_size, num_epochs, shuffle=False):\n",
    "    data = np.array(data)\n",
    "    data_size = len(data)\n",
    "    # 每个epoch的num_batch\n",
    "    num_batches_per_epoch = int((len(data) - 1) / batch_size) + 1\n",
    "    print(\"num_batches_per_epoch:\",num_batches_per_epoch)\n",
    "    for epoch in range(num_epochs):\n",
    "        # Shuffle the data at each epoch\n",
    "        if shuffle:\n",
    "            shuffle_indices = np.random.permutation(np.arange(data_size))\n",
    "            shuffled_data = data[shuffle_indices]\n",
    "        else:\n",
    "            shuffled_data = data\n",
    "        for batch_num in range(num_batches_per_epoch):\n",
    "            start_index = batch_num * batch_size\n",
    "            end_index = min((batch_num + 1) * batch_size, data_size)\n",
    "            yield shuffled_data[start_index:end_index]"
   ]
  },
  {
   "cell_type": "code",
   "execution_count": 4,
   "metadata": {
    "collapsed": true
   },
   "outputs": [],
   "source": [
    "data = pd.read_pickle('data/final_data.pkl')\n",
    "index = data.columns.values\n",
    "data_length = data.shape[0]\n",
    "\n",
    "weather_type = set(data['Weather'])\n",
    "weather_dict = dict(zip(weather_type,list(range(len(weather_type)))))\n",
    "\n",
    "total_labels = len(weather_type)\n",
    "\n",
    "\n",
    "data['Weather'].replace(pd.Series(weather_dict), inplace=True)\n",
    "\n",
    "#data['Weather'] = data['Weather'].update(pd.Series(weather_dict))\n",
    "data['Weather'] = data['Weather'].apply(one_hot)\n"
   ]
  },
  {
   "cell_type": "code",
   "execution_count": 5,
   "metadata": {
    "collapsed": true
   },
   "outputs": [],
   "source": [
    "data = data.sample(frac=1).reset_index(drop=True)"
   ]
  },
  {
   "cell_type": "code",
   "execution_count": 6,
   "metadata": {
    "collapsed": false
   },
   "outputs": [
    {
     "data": {
      "text/plain": [
       "Clear                    11\n",
       "Cloudy                    3\n",
       "Drizzle                  10\n",
       "Drizzle,Fog               4\n",
       "Mainly Clear              9\n",
       "Moderate Rain             6\n",
       "Moderate Rain,Drizzle     0\n",
       "Moderate Rain,Fog         1\n",
       "Mostly Cloudy             8\n",
       "Rain                      5\n",
       "Rain Showers              2\n",
       "Rain,Drizzle              7\n",
       "Rain,Fog                 12\n",
       "dtype: int64"
      ]
     },
     "execution_count": 6,
     "metadata": {},
     "output_type": "execute_result"
    }
   ],
   "source": [
    "pd.Series(weather_dict)"
   ]
  },
  {
   "cell_type": "code",
   "execution_count": 7,
   "metadata": {
    "collapsed": false
   },
   "outputs": [
    {
     "name": "stdout",
     "output_type": "stream",
     "text": [
      "13\n"
     ]
    }
   ],
   "source": [
    "print(len(pd.Series(weather_dict)))"
   ]
  },
  {
   "cell_type": "code",
   "execution_count": 8,
   "metadata": {
    "collapsed": true
   },
   "outputs": [],
   "source": [
    "X = data[index[-1]].values\n",
    "y = data[index[-2]].values\n",
    "x_train, x_test, y_train, y_test = train_test_split(X, y)\n",
    "x_train = x_train / 256.0\n",
    "x_test  = x_test  / 256.0"
   ]
  },
  {
   "cell_type": "code",
   "execution_count": 9,
   "metadata": {
    "collapsed": true
   },
   "outputs": [],
   "source": [
    "batch_size = 40\n",
    "num_epochs = 20\n",
    "\n",
    "num_labels = len(weather_dict)"
   ]
  },
  {
   "cell_type": "code",
   "execution_count": 10,
   "metadata": {
    "collapsed": false
   },
   "outputs": [
    {
     "data": {
      "text/plain": [
       "13"
      ]
     },
     "execution_count": 10,
     "metadata": {},
     "output_type": "execute_result"
    }
   ],
   "source": [
    "num_labels"
   ]
  },
  {
   "cell_type": "code",
   "execution_count": 11,
   "metadata": {
    "collapsed": true,
    "scrolled": true
   },
   "outputs": [],
   "source": [
    "# define 2 placeholders\n",
    "x = tf.placeholder(tf.float32, [None, 224, 224,3], name=\"input_x\")\n",
    "y = tf.placeholder(tf.float32, [None, num_labels], name=\"input_y\")\n",
    "\n",
    "train_network_fn = nets_factory.get_network_fn('alexnet_v2', \n",
    "                                                 num_classes = num_labels, \n",
    "                                                 weight_decay = 0.0005,\n",
    "                                                is_training = True,\n",
    "                                               \n",
    "                                                )\n",
    "\n",
    "prediction, end_points = train_network_fn(x)\n",
    "\n",
    "loss = tf.reduce_mean(tf.nn.softmax_cross_entropy_with_logits(labels=y, logits=prediction))\n",
    "\n",
    "global_step = tf.Variable(0, trainable=False)\n",
    "starter_learning_rate = 0.00001\n",
    "decay_steps = 5000\n",
    "decay_rate = 0.95\n",
    "    \n",
    "learning_rate = tf.train.exponential_decay(starter_learning_rate, global_step, decay_steps=decay_steps, \n",
    "                                           decay_rate=decay_rate, staircase=True)\n",
    "    #optimizer = tf.GradientDescent(learning_rate)\n",
    "    #optimizer.minimize(...my loss..., global_step=global_step)\n",
    "\n",
    "\n",
    "add_global = global_step.assign_add(1)\n",
    "with tf.control_dependencies([add_global]):\n",
    "    #train_op = opt.minimise(loss)\n",
    "    train_step = tf.train.AdamOptimizer(learning_rate).minimize(loss)\n",
    "correct_prediction = tf.equal(tf.argmax(y,1), tf.argmax(prediction,1))\n",
    "\n",
    "#求准确率\n",
    "accuracy = tf.reduce_mean(tf.cast(correct_prediction, tf.float32))"
   ]
  },
  {
   "cell_type": "code",
   "execution_count": 12,
   "metadata": {
    "collapsed": true
   },
   "outputs": [],
   "source": [
    "result_list = [[],[],[], []] #[[iterater],[training_accuracy],[testing_accuracy], [loss]]\n",
    "test_array = np.array(list(zip(x_test,y_test)))\n",
    "test_array = test_array[:100]\n",
    "x_t, y_t = zip(*test_array)\n"
   ]
  },
  {
   "cell_type": "code",
   "execution_count": null,
   "metadata": {
    "collapsed": false
   },
   "outputs": [
    {
     "name": "stdout",
     "output_type": "stream",
     "text": [
      "num_batches_per_epoch: 131\n"
     ]
    }
   ],
   "source": [
    "tf.set_random_seed(1)\n",
    "init = tf.global_variables_initializer()\n",
    "\n",
    "with tf.Session() as sess:\n",
    "    sess.run(init)\n",
    "     \n",
    "    batches = batch_iter(list(zip(x_train, y_train)), batch_size, num_epochs)\n",
    "    i = 0\n",
    "    \n",
    "    coord = tf.train.Coordinator()\n",
    "    threads = tf.train.start_queue_runners(sess=sess, coord = coord)\n",
    "    for batch in batches:\n",
    "        i = i + 1\n",
    "        x_batch, y_batch = zip(*batch)\n",
    "        sess.run(train_step, feed_dict={x:x_batch, y:y_batch})\n",
    "        \n",
    "        if i % 1 == 0:\n",
    "\n",
    "            acc_train = sess.run(accuracy, feed_dict = {x:x_batch, y:y_batch})\n",
    "            acc_test = sess.run(accuracy, feed_dict = {x:x_t, y:y_t})\n",
    "            #ts = sess.run(global_step)\n",
    "            #lr = sess.run(learning_rate)\n",
    "            result_list[0].append(i)\n",
    "            result_list[1].append(acc_train)\n",
    "            result_list[2].append(acc_test)\n",
    "            print(\"iterator \" + str(i) + \", testing accuracy %.4f\" % acc_test , \n",
    "                  \", training accuracy %.4f\" % acc_train #, \n",
    "                  #\", learning rate %f\" % lr \n",
    "                 )"
   ]
  },
  {
   "cell_type": "markdown",
   "metadata": {
    "collapsed": true
   },
   "source": [
    "1. Define a net\n",
    "2. Prediction\n",
    "3. Loss\n",
    "4. Optimizer\n",
    "5. Accuracy"
   ]
  },
  {
   "cell_type": "code",
   "execution_count": null,
   "metadata": {
    "collapsed": true,
    "scrolled": true
   },
   "outputs": [],
   "source": [
    "plt.plot(result_list[0], result_list[1])\n",
    "plt.plot(result_list[0], result_list[2])\n",
    "plt.show()"
   ]
  },
  {
   "cell_type": "code",
   "execution_count": null,
   "metadata": {
    "collapsed": true
   },
   "outputs": [],
   "source": [
    "np.argmax(y_t,1)"
   ]
  },
  {
   "cell_type": "code",
   "execution_count": null,
   "metadata": {
    "collapsed": true
   },
   "outputs": [],
   "source": []
  }
 ],
 "metadata": {
  "anaconda-cloud": {},
  "kernelspec": {
   "display_name": "Python [default]",
   "language": "python",
   "name": "python3"
  },
  "language_info": {
   "codemirror_mode": {
    "name": "ipython",
    "version": 3
   },
   "file_extension": ".py",
   "mimetype": "text/x-python",
   "name": "python",
   "nbconvert_exporter": "python",
   "pygments_lexer": "ipython3",
   "version": "3.5.2"
  }
 },
 "nbformat": 4,
 "nbformat_minor": 1
}
