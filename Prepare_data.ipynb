{
 "cells": [
  {
   "cell_type": "code",
   "execution_count": 1,
   "metadata": {
    "collapsed": false
   },
   "outputs": [],
   "source": [
    "import pandas as pd\n",
    "import os"
   ]
  },
  {
   "cell_type": "code",
   "execution_count": 2,
   "metadata": {
    "collapsed": true
   },
   "outputs": [],
   "source": [
    "data_path = \"data/weather/\"\n",
    "img_path = \"data/images/\""
   ]
  },
  {
   "cell_type": "markdown",
   "metadata": {},
   "source": [
    "# Read in all csv files and combine them together"
   ]
  },
  {
   "cell_type": "code",
   "execution_count": 3,
   "metadata": {
    "collapsed": false
   },
   "outputs": [],
   "source": [
    "files = os.listdir(data_path)\n",
    "collection = [pd.read_csv(data_path+file, header=14) for file in files]\n",
    "data = pd.concat(collection)"
   ]
  },
  {
   "cell_type": "code",
   "execution_count": 4,
   "metadata": {
    "collapsed": false
   },
   "outputs": [
    {
     "data": {
      "text/plain": [
       "(13176, 25)"
      ]
     },
     "execution_count": 4,
     "metadata": {},
     "output_type": "execute_result"
    }
   ],
   "source": [
    "data.shape"
   ]
  },
  {
   "cell_type": "code",
   "execution_count": 5,
   "metadata": {
    "collapsed": false
   },
   "outputs": [
    {
     "data": {
      "text/html": [
       "<div>\n",
       "<table border=\"1\" class=\"dataframe\">\n",
       "  <thead>\n",
       "    <tr style=\"text-align: right;\">\n",
       "      <th></th>\n",
       "      <th>Date/Time</th>\n",
       "      <th>Year</th>\n",
       "      <th>Month</th>\n",
       "      <th>Day</th>\n",
       "      <th>Time</th>\n",
       "      <th>Data Quality</th>\n",
       "      <th>Temp (°C)</th>\n",
       "      <th>Temp Flag</th>\n",
       "      <th>Dew Point Temp (°C)</th>\n",
       "      <th>Dew Point Temp Flag</th>\n",
       "      <th>...</th>\n",
       "      <th>Wind Spd Flag</th>\n",
       "      <th>Visibility (km)</th>\n",
       "      <th>Visibility Flag</th>\n",
       "      <th>Stn Press (kPa)</th>\n",
       "      <th>Stn Press Flag</th>\n",
       "      <th>Hmdx</th>\n",
       "      <th>Hmdx Flag</th>\n",
       "      <th>Wind Chill</th>\n",
       "      <th>Wind Chill Flag</th>\n",
       "      <th>Weather</th>\n",
       "    </tr>\n",
       "  </thead>\n",
       "  <tbody>\n",
       "    <tr>\n",
       "      <th>0</th>\n",
       "      <td>2017-06-01 00:00</td>\n",
       "      <td>2017</td>\n",
       "      <td>6</td>\n",
       "      <td>1</td>\n",
       "      <td>00:00</td>\n",
       "      <td>‡</td>\n",
       "      <td>13.4</td>\n",
       "      <td>NaN</td>\n",
       "      <td>12.8</td>\n",
       "      <td>NaN</td>\n",
       "      <td>...</td>\n",
       "      <td>NaN</td>\n",
       "      <td>19.3</td>\n",
       "      <td>NaN</td>\n",
       "      <td>100.99</td>\n",
       "      <td>NaN</td>\n",
       "      <td>NaN</td>\n",
       "      <td>NaN</td>\n",
       "      <td>NaN</td>\n",
       "      <td>NaN</td>\n",
       "      <td>NaN</td>\n",
       "    </tr>\n",
       "    <tr>\n",
       "      <th>1</th>\n",
       "      <td>2017-06-01 01:00</td>\n",
       "      <td>2017</td>\n",
       "      <td>6</td>\n",
       "      <td>1</td>\n",
       "      <td>01:00</td>\n",
       "      <td>‡</td>\n",
       "      <td>13.3</td>\n",
       "      <td>NaN</td>\n",
       "      <td>12.5</td>\n",
       "      <td>NaN</td>\n",
       "      <td>...</td>\n",
       "      <td>NaN</td>\n",
       "      <td>19.3</td>\n",
       "      <td>NaN</td>\n",
       "      <td>101.00</td>\n",
       "      <td>NaN</td>\n",
       "      <td>NaN</td>\n",
       "      <td>NaN</td>\n",
       "      <td>NaN</td>\n",
       "      <td>NaN</td>\n",
       "      <td>Rain Showers</td>\n",
       "    </tr>\n",
       "    <tr>\n",
       "      <th>2</th>\n",
       "      <td>2017-06-01 02:00</td>\n",
       "      <td>2017</td>\n",
       "      <td>6</td>\n",
       "      <td>1</td>\n",
       "      <td>02:00</td>\n",
       "      <td>‡</td>\n",
       "      <td>13.6</td>\n",
       "      <td>NaN</td>\n",
       "      <td>13.0</td>\n",
       "      <td>NaN</td>\n",
       "      <td>...</td>\n",
       "      <td>NaN</td>\n",
       "      <td>24.1</td>\n",
       "      <td>NaN</td>\n",
       "      <td>100.98</td>\n",
       "      <td>NaN</td>\n",
       "      <td>NaN</td>\n",
       "      <td>NaN</td>\n",
       "      <td>NaN</td>\n",
       "      <td>NaN</td>\n",
       "      <td>NaN</td>\n",
       "    </tr>\n",
       "    <tr>\n",
       "      <th>3</th>\n",
       "      <td>2017-06-01 03:00</td>\n",
       "      <td>2017</td>\n",
       "      <td>6</td>\n",
       "      <td>1</td>\n",
       "      <td>03:00</td>\n",
       "      <td>‡</td>\n",
       "      <td>13.3</td>\n",
       "      <td>NaN</td>\n",
       "      <td>12.5</td>\n",
       "      <td>NaN</td>\n",
       "      <td>...</td>\n",
       "      <td>NaN</td>\n",
       "      <td>16.1</td>\n",
       "      <td>NaN</td>\n",
       "      <td>100.99</td>\n",
       "      <td>NaN</td>\n",
       "      <td>NaN</td>\n",
       "      <td>NaN</td>\n",
       "      <td>NaN</td>\n",
       "      <td>NaN</td>\n",
       "      <td>NaN</td>\n",
       "    </tr>\n",
       "    <tr>\n",
       "      <th>4</th>\n",
       "      <td>2017-06-01 04:00</td>\n",
       "      <td>2017</td>\n",
       "      <td>6</td>\n",
       "      <td>1</td>\n",
       "      <td>04:00</td>\n",
       "      <td>‡</td>\n",
       "      <td>12.6</td>\n",
       "      <td>NaN</td>\n",
       "      <td>12.0</td>\n",
       "      <td>NaN</td>\n",
       "      <td>...</td>\n",
       "      <td>NaN</td>\n",
       "      <td>24.1</td>\n",
       "      <td>NaN</td>\n",
       "      <td>101.02</td>\n",
       "      <td>NaN</td>\n",
       "      <td>NaN</td>\n",
       "      <td>NaN</td>\n",
       "      <td>NaN</td>\n",
       "      <td>NaN</td>\n",
       "      <td>Cloudy</td>\n",
       "    </tr>\n",
       "  </tbody>\n",
       "</table>\n",
       "<p>5 rows × 25 columns</p>\n",
       "</div>"
      ],
      "text/plain": [
       "          Date/Time  Year  Month  Day   Time Data Quality  Temp (°C)  \\\n",
       "0  2017-06-01 00:00  2017      6    1  00:00            ‡       13.4   \n",
       "1  2017-06-01 01:00  2017      6    1  01:00            ‡       13.3   \n",
       "2  2017-06-01 02:00  2017      6    1  02:00            ‡       13.6   \n",
       "3  2017-06-01 03:00  2017      6    1  03:00            ‡       13.3   \n",
       "4  2017-06-01 04:00  2017      6    1  04:00            ‡       12.6   \n",
       "\n",
       "   Temp Flag  Dew Point Temp (°C)  Dew Point Temp Flag      ...       \\\n",
       "0        NaN                 12.8                  NaN      ...        \n",
       "1        NaN                 12.5                  NaN      ...        \n",
       "2        NaN                 13.0                  NaN      ...        \n",
       "3        NaN                 12.5                  NaN      ...        \n",
       "4        NaN                 12.0                  NaN      ...        \n",
       "\n",
       "   Wind Spd Flag  Visibility (km)  Visibility Flag  Stn Press (kPa)  \\\n",
       "0            NaN             19.3              NaN           100.99   \n",
       "1            NaN             19.3              NaN           101.00   \n",
       "2            NaN             24.1              NaN           100.98   \n",
       "3            NaN             16.1              NaN           100.99   \n",
       "4            NaN             24.1              NaN           101.02   \n",
       "\n",
       "   Stn Press Flag  Hmdx  Hmdx Flag  Wind Chill  Wind Chill Flag       Weather  \n",
       "0             NaN   NaN        NaN         NaN              NaN           NaN  \n",
       "1             NaN   NaN        NaN         NaN              NaN  Rain Showers  \n",
       "2             NaN   NaN        NaN         NaN              NaN           NaN  \n",
       "3             NaN   NaN        NaN         NaN              NaN           NaN  \n",
       "4             NaN   NaN        NaN         NaN              NaN        Cloudy  \n",
       "\n",
       "[5 rows x 25 columns]"
      ]
     },
     "execution_count": 5,
     "metadata": {},
     "output_type": "execute_result"
    }
   ],
   "source": [
    "data.head(5)"
   ]
  },
  {
   "cell_type": "markdown",
   "metadata": {},
   "source": [
    "# Remove unnecessary columns"
   ]
  },
  {
   "cell_type": "code",
   "execution_count": 6,
   "metadata": {
    "collapsed": true
   },
   "outputs": [],
   "source": [
    "data = data.drop(['Data Quality', 'Date/Time', 'Hmdx', 'Wind Chill', 'Year'], axis=1)\n",
    "data['Time'] = data['Time'].apply(lambda x: int(x[:2]))\n",
    "data = data.dropna(axis=1, how='all')"
   ]
  },
  {
   "cell_type": "markdown",
   "metadata": {},
   "source": [
    "# Fill weather with value"
   ]
  },
  {
   "cell_type": "code",
   "execution_count": 7,
   "metadata": {
    "collapsed": false
   },
   "outputs": [],
   "source": [
    "y = data['Weather'].values\n",
    "temp = ''\n",
    "y[0] = y[1]\n",
    "\n",
    "y_df = data['Weather']\n",
    "flag = y_df.isnull().values\n",
    "\n",
    "for i in range(1,len(y)):\n",
    "    if not flag[i]:\n",
    "        temp = y[i]\n",
    "    else:\n",
    "        y[i] = temp"
   ]
  },
  {
   "cell_type": "code",
   "execution_count": 8,
   "metadata": {
    "collapsed": true
   },
   "outputs": [],
   "source": [
    "data['Weather'] = pd.Series(y)"
   ]
  },
  {
   "cell_type": "code",
   "execution_count": 9,
   "metadata": {
    "collapsed": false
   },
   "outputs": [
    {
     "data": {
      "text/plain": [
       "(13176, 11)"
      ]
     },
     "execution_count": 9,
     "metadata": {},
     "output_type": "execute_result"
    }
   ],
   "source": [
    "data.shape"
   ]
  },
  {
   "cell_type": "markdown",
   "metadata": {},
   "source": [
    "# Remove rows with null"
   ]
  },
  {
   "cell_type": "code",
   "execution_count": 10,
   "metadata": {
    "collapsed": false
   },
   "outputs": [],
   "source": [
    "data = data.dropna(axis = 0, how = 'any')\n",
    "data = data.reset_index()\n",
    "data = data.drop('index', axis = 1)"
   ]
  },
  {
   "cell_type": "code",
   "execution_count": 11,
   "metadata": {
    "collapsed": false
   },
   "outputs": [
    {
     "data": {
      "text/plain": [
       "(13156, 11)"
      ]
     },
     "execution_count": 11,
     "metadata": {},
     "output_type": "execute_result"
    }
   ],
   "source": [
    "data.shape"
   ]
  },
  {
   "cell_type": "markdown",
   "metadata": {},
   "source": [
    "# Save cleaned data to csv"
   ]
  },
  {
   "cell_type": "code",
   "execution_count": 16,
   "metadata": {
    "collapsed": true
   },
   "outputs": [],
   "source": [
    "data.to_csv('data/weather_data.csv', index = False)"
   ]
  },
  {
   "cell_type": "code",
   "execution_count": null,
   "metadata": {
    "collapsed": true
   },
   "outputs": [],
   "source": []
  }
 ],
 "metadata": {
  "anaconda-cloud": {},
  "kernelspec": {
   "display_name": "Python [default]",
   "language": "python",
   "name": "python3"
  },
  "language_info": {
   "codemirror_mode": {
    "name": "ipython",
    "version": 3
   },
   "file_extension": ".py",
   "mimetype": "text/x-python",
   "name": "python",
   "nbconvert_exporter": "python",
   "pygments_lexer": "ipython3",
   "version": "3.5.2"
  }
 },
 "nbformat": 4,
 "nbformat_minor": 1
}
